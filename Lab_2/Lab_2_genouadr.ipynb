{
 "cells": [
  {
   "cell_type": "code",
   "execution_count": 1,
   "metadata": {},
   "outputs": [],
   "source": [
    "\"\"\"\n",
    "This project was developed by Peter Chen, Rocky Duan, Pieter Abbeel for the Berkeley Deep RL Bootcamp, August 2017.\n",
    "Bootcamp website with slides and lecture videos: https://sites.google.com/view/deep-rl-bootcamp/.\n",
    "\n",
    "Code adapted from Stanford CS231N materials: http://cs231n.stanford.edu/\n",
    "\"\"\"\n",
    "\n",
    "\n",
    "# note to properly run this lab, you should execute all code blocks sequentially\n",
    "import chainer\n",
    "import chainer.functions as F\n",
    "import chainer.links as L\n",
    "from chainer import training\n",
    "from chainer.training import extensions\n",
    "\n",
    "from collections import namedtuple, defaultdict, deque\n",
    "\n",
    "import numpy as np\n",
    "\n",
    "%matplotlib inline\n",
    "\n",
    "import matplotlib\n",
    "import matplotlib.pyplot as plt"
   ]
  },
  {
   "cell_type": "markdown",
   "metadata": {},
   "source": [
    "## Introduction to Chainer\n",
    "\n",
    "Chainer can be understood as Numpy plus the ability to record the computation graph of numerical operations to enable Automatic Differentiation. (Chainer actually also offers many other things; for example, a Numpy equivalent library that runs on GPU, but we will ignore them for now)"
   ]
  },
  {
   "cell_type": "markdown",
   "metadata": {},
   "source": [
    "Let's illustrate how Chainer works by a simple 1D regression task.\n",
    "\n",
    "Suppose we have observations from the following model $y = w x + b + \\epsilon$ where $\\epsilon \\sim \\mathcal{N}(0, 0.1)$ and the task is to estimate the linear model parameters $w, b$ from data."
   ]
  },
  {
   "cell_type": "code",
   "execution_count": 2,
   "metadata": {},
   "outputs": [
    {
     "data": {
      "image/png": "[encoded data removed]",
      "text/plain": [
       "<Figure size 432x288 with 1 Axes>"
      ]
     },
     "metadata": {
      "needs_background": "light"
     },
     "output_type": "display_data"
    }
   ],
   "source": [
    "# first generate some observations\n",
    "true_a = 1.3\n",
    "true_b = 0.4\n",
    "data_x = (np.arange(100) / 99.0 - .5).astype(np.float32) # Chainer assumes all the cpu computation is done in float32\n",
    "data_y = (data_x * true_a + true_b + np.random.randn(*data_x.shape) * 0.1).astype(np.float32)\n",
    "_ = plt.scatter(data_x, data_y, c='b')"
   ]
  },
  {
   "cell_type": "markdown",
   "metadata": {},
   "source": [
    "Chainer provides an abstraction called `Link` that describe some computation and keeps track of parameters for it. For instance, a `Linear` link describes a linear map on input and keeps track of `w` and bias `b`."
   ]
  },
  {
   "cell_type": "code",
   "execution_count": 3,
   "metadata": {},
   "outputs": [
    {
     "name": "stdout",
     "output_type": "stream",
     "text": [
      "w: variable W([[-0.85361528]])\n",
      "b: variable b([ 0.])\n",
      "Operations on chainer.Variable: variable([[ 122.14638519]]), type: <class 'chainer.variable.Variable'>\n",
      "numpy arrays: [[-0.85361528]] [[ 122.14638519]]\n"
     ]
    }
   ],
   "source": [
    "model = L.Linear(in_size=1, out_size=1) # input is 1D data and output is also 1D data\n",
    "\n",
    "# Chainer will randomly initialize `w` and `b` for us.\n",
    "# we can take a look at their values\n",
    "print(\"w:\", model.W)\n",
    "print(\"b:\", model.b)\n",
    "\n",
    "# model.W and model.b have type `chainer.Variable`, \n",
    "#   which is a wrapper around Numpy array\n",
    "assert isinstance(model.W, chainer.Variable)\n",
    "\n",
    "# operations that involve `chainer.Variable` will produce\n",
    "#   `chainer.Variable` and this records the computation graph\n",
    "var_result = model.W + 123 # some random computation\n",
    "print(\"Operations on chainer.Variable: %s, type: %s\" % (var_result, type(var_result)))\n",
    "\n",
    "# the underlying numpy array can be accessed by `data` attribute\n",
    "print(\"numpy arrays:\", model.W.data, var_result.data)"
   ]
  },
  {
   "cell_type": "code",
   "execution_count": 4,
   "metadata": {},
   "outputs": [
    {
     "data": {
      "image/png": "[encoded data removed]",
      "text/plain": [
       "<Figure size 432x288 with 1 Axes>"
      ]
     },
     "metadata": {
      "needs_background": "light"
     },
     "output_type": "display_data"
    }
   ],
   "source": [
    "# A chainer link is a callable object. calling it performs the\n",
    "#   forward computation. (in this case, it performs Wx + b)\n",
    "model_y = model(data_x[:, None]) # chainer's link usually assumes input is [Batch Size, Input Dimension]\n",
    "# `model_y` is a chainer variable so we use `.data` to access its numpy array for plotting\n",
    "\n",
    "# we can plot the model's current fit in red. it should be terrible because we haven't trained it yet\n",
    "_ = plt.plot(data_x, model_y.data[:,0], c='r')\n",
    "_ = plt.scatter(data_x, data_y, c='b')\n",
    "_ = plt.title(\"Initial model\")"
   ]
  },
  {
   "cell_type": "code",
   "execution_count": 5,
   "metadata": {},
   "outputs": [
    {
     "name": "stdout",
     "output_type": "stream",
     "text": [
      "loss variable(0.5818337202072144)\n",
      "dloss/dW [[-0.37226769]]\n"
     ]
    }
   ],
   "source": [
    "# now let's walk through how to perform forward computation\n",
    "#  and use AD to get gradients\n",
    "\n",
    "# first we clear the gradients that are stored in the model\n",
    "model.cleargrads()\n",
    "# as we have seen we can perform forward computation by calling the link\n",
    "model_y = model(data_x[:, None])\n",
    "\n",
    "# remember that `model_y` is a chainer variable. to operate on chainer variable\n",
    "#    we will use functions from chainer.functions to operate on those objects.\n",
    "loss = F.mean(F.square(model_y - data_y[:, None]))\n",
    "# `loss` is a scalar chainer variable\n",
    "assert isinstance(loss, chainer.Variable)\n",
    "print(\"loss\", loss)\n",
    "# calculating gradients d loss /d params is as simple as\n",
    "loss.backward()\n",
    "\n",
    "# we can inspect the gradient of loss with respect to W\n",
    "print(\"dloss/dW\", model.W.grad)"
   ]
  },
  {
   "cell_type": "markdown",
   "metadata": {},
   "source": [
    "Now that we know how to calculate gradients, we can code up a simple loop to perform gradient descent to train this model:\n",
    "\n",
    "(Hint: if you run into weird problems, maybe the state has been messed up and you can try re-runing all the code blocks from the beginning)"
   ]
  },
  {
   "cell_type": "code",
   "execution_count": 6,
   "metadata": {},
   "outputs": [
    {
     "name": "stdout",
     "output_type": "stream",
     "text": [
      "Itr 0 loss: variable(0.5772851705551147)\n",
      "Itr 25 loss: variable(0.07919134944677353)\n",
      "Itr 50 loss: variable(0.020412852987647057)\n",
      "Itr 75 loss: variable(0.009991518221795559)\n"
     ]
    },
    {
     "data": {
      "image/png": "[encoded data removed]",
      "text/plain": [
       "<Figure size 432x288 with 1 Axes>"
      ]
     },
     "metadata": {
      "needs_background": "light"
     },
     "output_type": "display_data"
    },
    {
     "data": {
      "image/png": "[encoded data removed]",
      "text/plain": [
       "<Figure size 432x288 with 1 Axes>"
      ]
     },
     "metadata": {
      "needs_background": "light"
     },
     "output_type": "display_data"
    }
   ],
   "source": [
    "# now we can perform gradient descent to improve this model\n",
    "model = L.Linear(in_size=1, out_size=1)\n",
    "alpha = 0.2\n",
    "losses = []\n",
    "\n",
    "for i in range(100):\n",
    "    model.cleargrads()\n",
    "    loss = F.mean(F.square(model(data_x[:, None]) - data_y[:, None]))\n",
    "    losses.append(float(loss.data))\n",
    "    # *** YOUR CODE HERE TO PERFORM GRADIENT DESCENT ***\n",
    "    # Hint: you could access gradients with model.W.grad, model.b.grad\n",
    "    # Hint2: you could write data into a parameter with model.W.data[:] = some_numpy_array\n",
    "    # Hint3: if your model doesn't learn, remember to try different learning rates\n",
    "    \n",
    "    # My Code -------------------------------------------------------------------------\n",
    "    loss.backward()\n",
    "    model.W.data = model.W.data - alpha*model.W.grad\n",
    "    model.b.data = model.b.data - alpha*model.b.grad\n",
    "    #----------------------------------------------------------------------------------\n",
    "    \n",
    "    if i % 25 == 0:\n",
    "        print(\"Itr\", i, \"loss:\", loss)\n",
    "plt.plot(np.array(losses))\n",
    "plt.title(\"Learning curve\")\n",
    "plt.figure()\n",
    "plt.plot(data_x, model(data_x[:, None])[:,0].data, c='r')\n",
    "plt.scatter(data_x, data_y, c='b')\n",
    "_ = plt.title(\"Trained model fitness\")\n"
   ]
  },
  {
   "cell_type": "markdown",
   "metadata": {},
   "source": [
    "## Train your first deep model\n",
    "\n",
    "Now we have learned the basics of Chainer. We can use it to train a deep model to classify MNIST digits. We will train a model on the MNIST dataset because the dataset is small.\n",
    "\n",
    "First we load the data and see what the images look like:"
   ]
  },
  {
   "cell_type": "code",
   "execution_count": 7,
   "metadata": {
    "scrolled": false
   },
   "outputs": [
    {
     "name": "stdout",
     "output_type": "stream",
     "text": [
      "Downloading from http://yann.lecun.com/exdb/mnist/train-images-idx3-ubyte.gz...\n",
      "Downloading from http://yann.lecun.com/exdb/mnist/train-labels-idx1-ubyte.gz...\n",
      "Downloading from http://yann.lecun.com/exdb/mnist/t10k-images-idx3-ubyte.gz...\n",
      "Downloading from http://yann.lecun.com/exdb/mnist/t10k-labels-idx1-ubyte.gz...\n",
      "train[i][0] is the ith image that's flattened, and has shape: (784,)\n",
      "train[i][1] is the ith image's label, such as: 3\n"
     ]
    },
    {
     "data": {
      "image/png": "[encoded data removed]",
      "text/plain": [
       "<Figure size 432x288 with 1 Axes>"
      ]
     },
     "metadata": {
      "needs_background": "light"
     },
     "output_type": "display_data"
    },
    {
     "data": {
      "image/png": "[encoded data removed]",
      "text/plain": [
       "<Figure size 432x288 with 1 Axes>"
      ]
     },
     "metadata": {
      "needs_background": "light"
     },
     "output_type": "display_data"
    }
   ],
   "source": [
    "train, test = chainer.datasets.get_mnist()\n",
    "# use train[data_point_index] to access data\n",
    "print(\"train[i][0] is the ith image that's flattened, and has shape:\", train[12][0].shape)\n",
    "print(\"train[i][1] is the ith image's label, such as:\", train[12][1])\n",
    "# here we visualize two of them\n",
    "plt.imshow(train[12][0].reshape([28, 28,]))\n",
    "plt.title(\"Label: %s\" % train[12][1])\n",
    "plt.figure()\n",
    "plt.imshow(train[42][0].reshape([28, 28,]))\n",
    "_ = plt.title(\"Label: %s\" % train[42][1])"
   ]
  },
  {
   "cell_type": "markdown",
   "metadata": {},
   "source": [
    "Next we will provide some boilerplate code and train a linear classifier as an example:"
   ]
  },
  {
   "cell_type": "code",
   "execution_count": 8,
   "metadata": {},
   "outputs": [
    {
     "name": "stdout",
     "output_type": "stream",
     "text": [
      "accuracy: 0.0; loss: 2.34252309799\n",
      "accuracy: 0.855; loss: 0.583878424168\n",
      "accuracy: 0.8625; loss: 0.536365298033\n",
      "accuracy: 0.895; loss: 0.385457939506\n",
      "accuracy: 0.89; loss: 0.409021454453\n",
      "accuracy: 0.8925; loss: 0.357999569178\n",
      "accuracy: 0.9125; loss: 0.354019462168\n",
      "accuracy: 0.8975; loss: 0.328560582995\n",
      "accuracy: 0.9075; loss: 0.31921361208\n",
      "accuracy: 0.91; loss: 0.284260829985\n",
      "accuracy: 0.91; loss: 0.318108589053\n",
      "accuracy: 0.9225; loss: 0.350044072866\n",
      "accuracy: 0.9125; loss: 0.32112103343\n",
      "accuracy: 0.8925; loss: 0.341223171651\n",
      "accuracy: 0.9325; loss: 0.324537373483\n",
      "accuracy: 0.93; loss: 0.233627987951\n",
      "accuracy: 0.915; loss: 0.268622439206\n",
      "accuracy: 0.91; loss: 0.327529040575\n",
      "accuracy: 0.92; loss: 0.271666261554\n",
      "accuracy: 0.92; loss: 0.238883302212\n",
      "accuracy: 0.925; loss: 0.296549168974\n",
      "accuracy: 0.8975; loss: 0.360791115165\n",
      "accuracy: 0.91; loss: 0.291468892992\n",
      "accuracy: 0.925; loss: 0.270953889191\n",
      "accuracy: 0.9175; loss: 0.348180883527\n",
      "accuracy: 0.9125; loss: 0.281553665698\n"
     ]
    }
   ],
   "source": [
    "def run(model, batchsize=16, num_epochs=2):\n",
    "    \n",
    "    optimizer = chainer.optimizers.Adam() # we will use chainer's Adam implementation instead of writing our own gradient based optimization\n",
    "    optimizer.setup(model)\n",
    "    \n",
    "    stats = defaultdict(lambda: deque(maxlen=25))\n",
    "    for epoch in range(num_epochs):\n",
    "        train_iter = chainer.iterators.SerialIterator(train, batchsize, repeat=False, shuffle=True)\n",
    "        test_iter = chainer.iterators.SerialIterator(test, batchsize, repeat=False, shuffle=False)\n",
    "        \n",
    "        for itr, batch in enumerate(train_iter):\n",
    "            xs = np.concatenate([datum[0][None, :] for datum in batch])\n",
    "            ys = np.array([datum[1] for datum in batch])\n",
    "\n",
    "            logits = model(xs)\n",
    "\n",
    "            loss = F.softmax_cross_entropy(logits, ys)\n",
    "            model.cleargrads()\n",
    "            loss.backward()\n",
    "            optimizer.update()\n",
    "            \n",
    "            # calculate stats\n",
    "            stats[\"loss\"].append(float(loss.data))\n",
    "            stats[\"accuracy\"].append(float((logits.data.argmax(1) == ys).sum() / batchsize))\n",
    "            if itr % 300 == 0:\n",
    "                print(\"; \".join(\"%s: %s\" % (k, np.mean(vs)) for k, vs in stats.items()))\n",
    "\n",
    "# try a simple linear model\n",
    "run(L.Linear(None, 10))"
   ]
  },
  {
   "cell_type": "markdown",
   "metadata": {},
   "source": [
    "Next we will try to improve performance by training an MLP instead. A partial implementation is provided for you to fill in:"
   ]
  },
  {
   "cell_type": "code",
   "execution_count": 10,
   "metadata": {},
   "outputs": [
    {
     "name": "stdout",
     "output_type": "stream",
     "text": [
      "accuracy: 0.125; loss: 2.33366680145\n",
      "accuracy: 0.925; loss: 0.327287918925\n",
      "accuracy: 0.9125; loss: 0.269574716389\n",
      "accuracy: 0.9425; loss: 0.162295832932\n",
      "accuracy: 0.9325; loss: 0.196674365401\n",
      "accuracy: 0.92; loss: 0.29744461596\n",
      "accuracy: 0.9325; loss: 0.206816905439\n",
      "accuracy: 0.945; loss: 0.159774872661\n",
      "accuracy: 0.9475; loss: 0.138599238992\n",
      "accuracy: 0.955; loss: 0.0983626687527\n",
      "accuracy: 0.9525; loss: 0.145664195418\n",
      "accuracy: 0.945; loss: 0.165778856277\n",
      "accuracy: 0.9675; loss: 0.0930352607369\n",
      "accuracy: 0.9625; loss: 0.131526424289\n",
      "accuracy: 0.9725; loss: 0.0966155105829\n",
      "accuracy: 0.97; loss: 0.0927044895291\n",
      "accuracy: 0.9625; loss: 0.119628617167\n",
      "accuracy: 0.9725; loss: 0.125942375958\n",
      "accuracy: 0.9625; loss: 0.113571524024\n",
      "accuracy: 0.9725; loss: 0.0984774821997\n",
      "accuracy: 0.9825; loss: 0.0692796391249\n",
      "accuracy: 0.965; loss: 0.107271764576\n",
      "accuracy: 0.975; loss: 0.0898927253485\n",
      "accuracy: 0.975; loss: 0.0995692932606\n",
      "accuracy: 0.9825; loss: 0.0574143785238\n",
      "accuracy: 0.9875; loss: 0.043639537096\n"
     ]
    }
   ],
   "source": [
    "class MLP(chainer.Chain):\n",
    "\n",
    "    def __init__(self, n_units, n_out):\n",
    "        super(MLP, self).__init__()\n",
    "        with self.init_scope():\n",
    "            # the size of the inputs to each layer will be inferred\n",
    "            self.l1 = L.Linear(None, n_units)  # n_in -> n_units\n",
    "            self.l2 = L.Linear(None, n_units)  # n_units -> n_units\n",
    "            self.l3 = L.Linear(None, n_out)  # n_units -> n_out\n",
    "\n",
    "    def __call__(self, x):\n",
    "        # *** YOUR CODE HERE TO BUILD AN MLP W/ self.l1, self.l2, self.l3 ***\n",
    "        # \n",
    "        # Hint: you should make use of non-linearities / activation functions\n",
    "        #     https://docs.chainer.org/en/stable/reference/functions.html#activation-functions\n",
    "        \n",
    "        # My Code --------------------------------------------------------------------------------\n",
    "        x = F.relu(self.l1(x))\n",
    "        x = F.relu(self.l2(x))\n",
    "        x = self.l3(x)\n",
    "        \n",
    "        return x\n",
    "        #-----------------------------------------------------------------------------------------\n",
    "        \n",
    "        #raise NotImplementedError()\n",
    "        \n",
    "run(MLP(200, 10))"
   ]
  },
  {
   "cell_type": "markdown",
   "metadata": {},
   "source": [
    "Next you should try to implement logging test loss and see if the model is overfitting."
   ]
  },
  {
   "cell_type": "code",
   "execution_count": 11,
   "metadata": {},
   "outputs": [
    {
     "name": "stdout",
     "output_type": "stream",
     "text": [
      "accuracy: 0.125; loss: 2.23146915436; test_loss: 2.30454; test_accuracy: 0.1452\n",
      "accuracy: 0.8975; loss: 0.356777539253; test_loss: 0.27408; test_accuracy: 0.9194\n",
      "accuracy: 0.9375; loss: 0.213662660718; test_loss: 0.246645; test_accuracy: 0.9275\n",
      "accuracy: 0.915; loss: 0.296771633625; test_loss: 0.236843; test_accuracy: 0.9252\n",
      "accuracy: 0.925; loss: 0.230236728787; test_loss: 0.189781; test_accuracy: 0.9425\n",
      "accuracy: 0.9375; loss: 0.202376939058; test_loss: 0.168635; test_accuracy: 0.9459\n",
      "accuracy: 0.9575; loss: 0.11509108603; test_loss: 0.133319; test_accuracy: 0.9586\n",
      "accuracy: 0.9675; loss: 0.116689117551; test_loss: 0.15093; test_accuracy: 0.9529\n",
      "accuracy: 0.975; loss: 0.0941457682848; test_loss: 0.124514; test_accuracy: 0.9596\n",
      "accuracy: 0.955; loss: 0.149147657156; test_loss: 0.119764; test_accuracy: 0.963\n",
      "accuracy: 0.965; loss: 0.130908405185; test_loss: 0.105502; test_accuracy: 0.9668\n",
      "accuracy: 0.96; loss: 0.100071471035; test_loss: 0.111564; test_accuracy: 0.9647\n",
      "accuracy: 0.9475; loss: 0.165919833779; test_loss: 0.110273; test_accuracy: 0.9658\n",
      "accuracy: 0.96; loss: 0.132316871881; test_loss: 0.098407; test_accuracy: 0.9693\n",
      "accuracy: 0.9625; loss: 0.100370230675; test_loss: 0.10296; test_accuracy: 0.9677\n",
      "accuracy: 0.9775; loss: 0.0741708230972; test_loss: 0.101475; test_accuracy: 0.9676\n",
      "accuracy: 0.96; loss: 0.137009633183; test_loss: 0.0995867; test_accuracy: 0.9667\n",
      "accuracy: 0.9625; loss: 0.103246181011; test_loss: 0.113002; test_accuracy: 0.9645\n",
      "accuracy: 0.9725; loss: 0.0639822924137; test_loss: 0.111273; test_accuracy: 0.9665\n",
      "accuracy: 0.975; loss: 0.0835703119636; test_loss: 0.101804; test_accuracy: 0.9701\n",
      "accuracy: 0.975; loss: 0.0782962298393; test_loss: 0.0957526; test_accuracy: 0.9691\n",
      "accuracy: 0.9775; loss: 0.0811159959435; test_loss: 0.0894324; test_accuracy: 0.9723\n",
      "accuracy: 0.9675; loss: 0.115670201778; test_loss: 0.106178; test_accuracy: 0.967\n",
      "accuracy: 0.9725; loss: 0.0914067769051; test_loss: 0.091332; test_accuracy: 0.9729\n",
      "accuracy: 0.975; loss: 0.0660022926331; test_loss: 0.090653; test_accuracy: 0.9721\n",
      "accuracy: 0.9725; loss: 0.0743466582894; test_loss: 0.0894171; test_accuracy: 0.9722\n"
     ]
    }
   ],
   "source": [
    "def better_run(model, batchsize=16, num_epochs=2):\n",
    "\n",
    "    optimizer = chainer.optimizers.Adam() # we will use chainer's Adam implementation instead of writing our own gradient based optimization\n",
    "    optimizer.setup(model)\n",
    "    \n",
    "    stats = defaultdict(lambda: deque(maxlen=25))\n",
    "    for epoch in range(num_epochs):\n",
    "        train_iter = chainer.iterators.SerialIterator(train, batchsize, repeat=False, shuffle=True)\n",
    "        for itr, batch in enumerate(train_iter):\n",
    "            xs = np.concatenate([datum[0][None, :] for datum in batch])\n",
    "            ys = np.array([datum[1] for datum in batch])\n",
    "\n",
    "            logits = model(xs)\n",
    "\n",
    "            loss = F.softmax_cross_entropy(logits, ys)\n",
    "            model.cleargrads()\n",
    "            loss.backward()\n",
    "            optimizer.update()\n",
    "            \n",
    "            # calculate stats\n",
    "            stats[\"loss\"].append(float(loss.data))\n",
    "            stats[\"accuracy\"].append(float((logits.data.argmax(1) == ys).sum() / batchsize))\n",
    "            if itr % 300 == 0:\n",
    "                test_iter = chainer.iterators.SerialIterator(test, batchsize, repeat=False, shuffle=False)\n",
    "                # *** YOUR CODE implement logging of stats on test set ***\n",
    "                \n",
    "                # My Code ---------------------------------------------------------------------\n",
    "                xs = np.concatenate([datum[0][None, :] for datum in test])\n",
    "                ys = np.array([datum[1] for datum in test])\n",
    "                logits = model(xs)\n",
    "                stats[\"test_accuracy\"] = F.accuracy(logits, ys).data\n",
    "                stats[\"test_loss\"] = F.softmax_cross_entropy(logits, ys).data\n",
    "                #------------------------------------------------------------------------------\n",
    "                \n",
    "                print(\"; \".join(\"%s: %s\" % (k, np.mean(vs)) for k, vs in stats.items()))\n",
    "\n",
    "better_run(MLP(200, 10))"
   ]
  },
  {
   "cell_type": "markdown",
   "metadata": {},
   "source": [
    "Try different variants!\n",
    "\n",
    "- Does using a ConvNet improve performance (reduce overfitting?)\n",
    "- Try changing the learning rate and observe the effect\n",
    "- Does the model train if you give it correlated gradients? (consecutively sample many batches of \"1\", then many batches of \"2\", ... etc"
   ]
  }
 ],
 "metadata": {
  "kernelspec": {
   "display_name": "Python 3",
   "language": "python",
   "name": "python3"
  },
  "language_info": {
   "codemirror_mode": {
    "name": "ipython",
    "version": 3
   },
   "file_extension": ".py",
   "mimetype": "text/x-python",
   "name": "python",
   "nbconvert_exporter": "python",
   "pygments_lexer": "ipython3",
   "version": "3.5.6"
  }
 },
 "nbformat": 4,
 "nbformat_minor": 1
}
